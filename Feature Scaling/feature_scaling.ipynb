{
 "cells": [
  {
   "cell_type": "code",
   "execution_count": 1,
   "id": "fb0ebb89",
   "metadata": {},
   "outputs": [],
   "source": [
    "import numpy as np"
   ]
  },
  {
   "cell_type": "code",
   "execution_count": 2,
   "id": "fcf18195",
   "metadata": {},
   "outputs": [],
   "source": [
    "#sample data\n",
    "data = np.array([[25,70000],\n",
    "                [34,60000],\n",
    "                [29,55000],\n",
    "                [28,65000]])"
   ]
  },
  {
   "cell_type": "markdown",
   "id": "2878aaaa",
   "metadata": {},
   "source": [
    "### Normalization: Scale features to a given range(usually between 0 and 1)"
   ]
  },
  {
   "cell_type": "code",
   "execution_count": 3,
   "id": "a1ee5468",
   "metadata": {},
   "outputs": [
    {
     "data": {
      "text/plain": [
       "array([[0.        , 1.        ],\n",
       "       [1.        , 0.33333333],\n",
       "       [0.44444444, 0.        ],\n",
       "       [0.33333333, 0.66666667]])"
      ]
     },
     "execution_count": 3,
     "metadata": {},
     "output_type": "execute_result"
    }
   ],
   "source": [
    "from sklearn.preprocessing import MinMaxScaler\n",
    "\n",
    "scaler = MinMaxScaler()\n",
    "scaled_data = scaler.fit_transform(data)\n",
    "scaled_data"
   ]
  },
  {
   "cell_type": "markdown",
   "id": "73dca28d",
   "metadata": {},
   "source": [
    "### Standardization: Standardize features by removing the mean and scaling to unit variance."
   ]
  },
  {
   "cell_type": "code",
   "execution_count": 4,
   "id": "1b2277e9",
   "metadata": {},
   "outputs": [
    {
     "data": {
      "text/plain": [
       "array([[-1.2344268 ,  1.34164079],\n",
       "       [ 1.5430335 , -0.4472136 ],\n",
       "       [ 0.        , -1.34164079],\n",
       "       [-0.3086067 ,  0.4472136 ]])"
      ]
     },
     "execution_count": 4,
     "metadata": {},
     "output_type": "execute_result"
    }
   ],
   "source": [
    "from sklearn.preprocessing import StandardScaler\n",
    "\n",
    "scaler = StandardScaler()\n",
    "scaled_data = scaler.fit_transform(data)\n",
    "scaled_data"
   ]
  }
 ],
 "metadata": {
  "kernelspec": {
   "display_name": "Python 3 (ipykernel)",
   "language": "python",
   "name": "python3"
  },
  "language_info": {
   "codemirror_mode": {
    "name": "ipython",
    "version": 3
   },
   "file_extension": ".py",
   "mimetype": "text/x-python",
   "name": "python",
   "nbconvert_exporter": "python",
   "pygments_lexer": "ipython3",
   "version": "3.11.5"
  }
 },
 "nbformat": 4,
 "nbformat_minor": 5
}
